{
 "cells": [
  {
   "cell_type": "markdown",
   "metadata": {},
   "source": [
    "# Pratik Nanasaheb Shinde \n",
    "The price of a car depends on a lot of factors like the goodwill of the brand of the car, features of the car, horsepower and the mileage it gives and many more. Car price prediction is one of the major research areas in machine learning. So if you want to learn how to train a car price prediction model then this project is for you."
   ]
  },
  {
   "cell_type": "code",
   "execution_count": null,
   "metadata": {
    "execution": {
     "iopub.execute_input": "2023-05-17T05:39:07.649555Z",
     "iopub.status.busy": "2023-05-17T05:39:07.649093Z",
     "iopub.status.idle": "2023-05-17T05:39:09.223897Z",
     "shell.execute_reply": "2023-05-17T05:39:09.222408Z",
     "shell.execute_reply.started": "2023-05-17T05:39:07.649518Z"
    },
    "id": "SZokTzfr50Gb"
   },
   "outputs": [],
   "source": [
    "import numpy as np\n",
    "import pandas as pd\n",
    "import matplotlib.pyplot as plt\n",
    "import seaborn as sns"
   ]
  },
  {
   "cell_type": "code",
   "execution_count": null,
   "metadata": {
    "colab": {
     "base_uri": "https://localhost:8080/",
     "height": 557
    },
    "execution": {
     "iopub.execute_input": "2023-05-17T05:39:09.226328Z",
     "iopub.status.busy": "2023-05-17T05:39:09.225928Z",
     "iopub.status.idle": "2023-05-17T05:39:09.322400Z",
     "shell.execute_reply": "2023-05-17T05:39:09.321268Z",
     "shell.execute_reply.started": "2023-05-17T05:39:09.226295Z"
    },
    "id": "_yl1iAGB6St1",
    "outputId": "f7756b96-bf8f-4169-b77d-276eb649e5ee"
   },
   "outputs": [],
   "source": [
    "data = pd.read_csv('CarPrice.csv')\n",
    "data.head()"
   ]
  },
  {
   "cell_type": "code",
   "execution_count": null,
   "metadata": {},
   "outputs": [],
   "source": [
    "data.columns"
   ]
  },
  {
   "cell_type": "code",
   "execution_count": null,
   "metadata": {
    "colab": {
     "base_uri": "https://localhost:8080/"
    },
    "execution": {
     "iopub.execute_input": "2023-05-17T05:39:09.346818Z",
     "iopub.status.busy": "2023-05-17T05:39:09.346343Z",
     "iopub.status.idle": "2023-05-17T05:39:09.362453Z",
     "shell.execute_reply": "2023-05-17T05:39:09.361474Z",
     "shell.execute_reply.started": "2023-05-17T05:39:09.346783Z"
    },
    "id": "PuhaOVEz9iCF",
    "outputId": "3e3049c9-11e6-49c6-9f06-2753bdb47708"
   },
   "outputs": [],
   "source": [
    "data['Brand'] = data['CarName'].apply(lambda x: x.split(' ')[0])\n",
    "data['Brand'] = data['Brand'].replace({'maxda': 'mazda', 'nissan': 'Nissan', 'porcshce': 'porsche', 'toyouta': 'toyota', 'vokswagen': 'volkswagen', 'vw': 'volkswagen'})\n",
    "data['Brand'].value_counts()"
   ]
  },
  {
   "cell_type": "markdown",
   "metadata": {},
   "source": [
    "# **EDA**"
   ]
  },
  {
   "cell_type": "code",
   "execution_count": null,
   "metadata": {
    "execution": {
     "iopub.execute_input": "2023-05-17T05:39:09.480277Z",
     "iopub.status.busy": "2023-05-17T05:39:09.479504Z",
     "iopub.status.idle": "2023-05-17T05:39:09.489238Z",
     "shell.execute_reply": "2023-05-17T05:39:09.487652Z",
     "shell.execute_reply.started": "2023-05-17T05:39:09.480229Z"
    },
    "id": "1S_zmXgV_yjh"
   },
   "outputs": [],
   "source": [
    "# first tip: drop categorical variables\n",
    "# second tip: drop variables which almost all of them are in the top category\n",
    "\n",
    "data.drop(['car_ID', 'CarName', 'cylindernumber', 'enginetype', 'enginelocation', 'drivewheel', 'carbody', 'doornumber', 'aspiration', 'fueltype', 'fuelsystem'], axis=1, inplace=True)"
   ]
  },
  {
   "cell_type": "code",
   "execution_count": null,
   "metadata": {
    "colab": {
     "base_uri": "https://localhost:8080/"
    },
    "execution": {
     "iopub.execute_input": "2023-05-17T05:39:09.571698Z",
     "iopub.status.busy": "2023-05-17T05:39:09.571334Z",
     "iopub.status.idle": "2023-05-17T05:39:09.582307Z",
     "shell.execute_reply": "2023-05-17T05:39:09.580910Z",
     "shell.execute_reply.started": "2023-05-17T05:39:09.571665Z"
    },
    "id": "WYy7y3kW-Wtj",
    "outputId": "7e47b7f9-0384-4bc4-8c0e-c614e3f94b0e"
   },
   "outputs": [],
   "source": [
    "data.isnull().sum()"
   ]
  },
  {
   "cell_type": "code",
   "execution_count": null,
   "metadata": {
    "colab": {
     "base_uri": "https://localhost:8080/"
    },
    "execution": {
     "iopub.execute_input": "2023-05-17T05:39:09.584739Z",
     "iopub.status.busy": "2023-05-17T05:39:09.584359Z",
     "iopub.status.idle": "2023-05-17T05:39:09.596965Z",
     "shell.execute_reply": "2023-05-17T05:39:09.595389Z",
     "shell.execute_reply.started": "2023-05-17T05:39:09.584704Z"
    },
    "id": "_yRnvQJ8_d9U",
    "outputId": "2ca4a890-c38d-4cf4-dc35-8add33c4cf1b"
   },
   "outputs": [],
   "source": [
    "data.columns"
   ]
  },
  {
   "cell_type": "code",
   "execution_count": null,
   "metadata": {
    "colab": {
     "base_uri": "https://localhost:8080/"
    },
    "execution": {
     "iopub.execute_input": "2023-05-17T05:39:09.601524Z",
     "iopub.status.busy": "2023-05-17T05:39:09.601144Z",
     "iopub.status.idle": "2023-05-17T05:39:09.611676Z",
     "shell.execute_reply": "2023-05-17T05:39:09.610788Z",
     "shell.execute_reply.started": "2023-05-17T05:39:09.601490Z"
    },
    "id": "_dBeNTGzCLG-",
    "outputId": "6141b104-846a-46bf-dd94-f601b59b408a"
   },
   "outputs": [],
   "source": [
    "data['symboling'].value_counts() "
   ]
  },
  {
   "cell_type": "code",
   "execution_count": null,
   "metadata": {
    "colab": {
     "base_uri": "https://localhost:8080/",
     "height": 874
    },
    "execution": {
     "iopub.execute_input": "2023-05-17T05:39:10.494318Z",
     "iopub.status.busy": "2023-05-17T05:39:10.493590Z",
     "iopub.status.idle": "2023-05-17T05:39:12.135005Z",
     "shell.execute_reply": "2023-05-17T05:39:12.134006Z",
     "shell.execute_reply.started": "2023-05-17T05:39:10.494271Z"
    },
    "id": "aGiF5w2oEyvO",
    "outputId": "b9716f48-b3e1-4d53-af73-1d514f142b84"
   },
   "outputs": [],
   "source": [
    "fig, ((ax1, ax2),( ax3, ax4)) = plt.subplots(2, 2, figsize=(15,10))\n",
    "ax1.scatter(data['carlength'], data['price'])\n",
    "ax2.scatter(data['horsepower'], data['price'])\n",
    "ax3.scatter(data['enginesize'], data['price'])\n",
    "ax4.scatter(data['peakrpm'], data['price'])\n",
    "ax1.set_title('carlength')\n",
    "ax2.set_title('horsepower')\n",
    "ax3.set_title('enginesize')\n",
    "ax4.set_title('peakrpm')"
   ]
  },
  {
   "cell_type": "code",
   "execution_count": null,
   "metadata": {},
   "outputs": [],
   "source": [
    "# From above plots it the log transformation will help to get a linear relationship\n",
    "\n",
    "data['log_price'] = np.log(data['price'])\n",
    "\n",
    "fig, axes = plt.subplots(1, 2, figsize=(8, 6))\n",
    "\n",
    "# Plotting log-transformed price distribution\n",
    "sns.histplot(data['log_price'], ax=axes[0])\n",
    "axes[0].set_title('Log-Transformed Price Distribution')\n",
    "\n",
    "# Plotting original price distribution\n",
    "sns.histplot(data['price'], ax=axes[1])\n",
    "axes[1].set_title('Original Price Distribution')\n",
    "\n",
    "plt.tight_layout()\n",
    "plt.show()"
   ]
  },
  {
   "cell_type": "code",
   "execution_count": null,
   "metadata": {},
   "outputs": [],
   "source": [
    "data.drop(['price'], axis = 1, inplace = True)"
   ]
  },
  {
   "cell_type": "code",
   "execution_count": null,
   "metadata": {
    "colab": {
     "base_uri": "https://localhost:8080/",
     "height": 874
    },
    "execution": {
     "iopub.execute_input": "2023-05-17T05:39:12.617358Z",
     "iopub.status.busy": "2023-05-17T05:39:12.616428Z",
     "iopub.status.idle": "2023-05-17T05:39:14.112244Z",
     "shell.execute_reply": "2023-05-17T05:39:14.110571Z",
     "shell.execute_reply.started": "2023-05-17T05:39:12.617316Z"
    },
    "id": "x-rb1zmnEtPw",
    "outputId": "8539c7b0-edf2-4e8d-98c9-dd9d7412a404"
   },
   "outputs": [],
   "source": [
    "fig, ((ax1, ax2),( ax3, ax4)) = plt.subplots(2, 2, figsize=(15,10))\n",
    "ax1.scatter(data['carlength'], data['log_price'])\n",
    "ax2.scatter(data['horsepower'], data['log_price'])\n",
    "ax3.scatter(data['enginesize'], data['log_price'])\n",
    "ax4.scatter(data['peakrpm'], data['log_price'])\n",
    "ax1.set_title('carlength')\n",
    "ax2.set_title('horsepower')\n",
    "ax3.set_title('enginesize')\n",
    "ax4.set_title('peakrpm')"
   ]
  },
  {
   "cell_type": "markdown",
   "metadata": {
    "id": "W3pDEKbnMMBe"
   },
   "source": [
    "**So at the end of OLS assumptions analysis, we consider horsepower and citympg as two numerical predictors**"
   ]
  },
  {
   "cell_type": "code",
   "execution_count": null,
   "metadata": {
    "colab": {
     "base_uri": "https://localhost:8080/",
     "height": 423
    },
    "execution": {
     "iopub.execute_input": "2023-05-17T05:39:14.552236Z",
     "iopub.status.busy": "2023-05-17T05:39:14.551064Z",
     "iopub.status.idle": "2023-05-17T05:39:14.576458Z",
     "shell.execute_reply": "2023-05-17T05:39:14.575166Z",
     "shell.execute_reply.started": "2023-05-17T05:39:14.552153Z"
    },
    "id": "N6-h6d-lN8xU",
    "outputId": "554983fd-6602-427d-dddc-f95e89c644c3"
   },
   "outputs": [],
   "source": [
    "data_cleaned = data.drop(['wheelbase', 'carlength', 'carwidth','carheight',\\\n",
    "                          'highwaympg', 'curbweight', 'stroke', 'boreratio','peakrpm','enginesize', 'compressionratio'], axis=1)\n",
    "data_cleaned.columns"
   ]
  },
  {
   "cell_type": "code",
   "execution_count": null,
   "metadata": {
    "colab": {
     "base_uri": "https://localhost:8080/"
    },
    "execution": {
     "iopub.execute_input": "2023-05-17T05:39:14.578718Z",
     "iopub.status.busy": "2023-05-17T05:39:14.578122Z",
     "iopub.status.idle": "2023-05-17T05:39:14.596723Z",
     "shell.execute_reply": "2023-05-17T05:39:14.595524Z",
     "shell.execute_reply.started": "2023-05-17T05:39:14.578678Z"
    },
    "id": "_yy6Lex-KA40",
    "outputId": "db660e3a-9dea-4fd8-b1cf-359afa562dda"
   },
   "outputs": [],
   "source": [
    "data_cleaned['symboling'] = data_cleaned['symboling'].astype(str)"
   ]
  },
  {
   "cell_type": "code",
   "execution_count": null,
   "metadata": {
    "colab": {
     "base_uri": "https://localhost:8080/",
     "height": 505
    },
    "execution": {
     "iopub.execute_input": "2023-05-17T05:39:14.599872Z",
     "iopub.status.busy": "2023-05-17T05:39:14.599395Z",
     "iopub.status.idle": "2023-05-17T05:39:14.651120Z",
     "shell.execute_reply": "2023-05-17T05:39:14.649755Z",
     "shell.execute_reply.started": "2023-05-17T05:39:14.599831Z"
    },
    "id": "5xFfffHcNIO0",
    "outputId": "ebe2edf8-7cc8-4b01-aff1-a42a32332089"
   },
   "outputs": [],
   "source": [
    "data_cleaned = pd.get_dummies(data_cleaned, drop_first=True)"
   ]
  },
  {
   "cell_type": "markdown",
   "metadata": {
    "id": "BjyUruFPO1rQ"
   },
   "source": [
    "# **Standardizing**"
   ]
  },
  {
   "cell_type": "code",
   "execution_count": null,
   "metadata": {
    "execution": {
     "iopub.execute_input": "2023-05-17T05:39:14.653664Z",
     "iopub.status.busy": "2023-05-17T05:39:14.653020Z",
     "iopub.status.idle": "2023-05-17T05:39:14.660857Z",
     "shell.execute_reply": "2023-05-17T05:39:14.658924Z",
     "shell.execute_reply.started": "2023-05-17T05:39:14.653624Z"
    },
    "id": "r6eE920jN3tf"
   },
   "outputs": [],
   "source": [
    "X = data_cleaned.drop('log_price', axis=1)\n",
    "Y = data_cleaned['log_price']"
   ]
  },
  {
   "cell_type": "code",
   "execution_count": null,
   "metadata": {
    "execution": {
     "iopub.execute_input": "2023-05-17T05:39:14.663658Z",
     "iopub.status.busy": "2023-05-17T05:39:14.662904Z",
     "iopub.status.idle": "2023-05-17T05:39:14.778562Z",
     "shell.execute_reply": "2023-05-17T05:39:14.777165Z",
     "shell.execute_reply.started": "2023-05-17T05:39:14.663618Z"
    },
    "id": "-hIwBNxfPNnG"
   },
   "outputs": [],
   "source": [
    "from sklearn.preprocessing import StandardScaler\n",
    "\n",
    "scalar = StandardScaler()\n",
    "scalar.fit(X)\n",
    "scaled_inputs = scalar.transform(X)"
   ]
  },
  {
   "cell_type": "markdown",
   "metadata": {
    "id": "Qo52B57uPm_w"
   },
   "source": [
    "# **Training**"
   ]
  },
  {
   "cell_type": "code",
   "execution_count": null,
   "metadata": {
    "colab": {
     "base_uri": "https://localhost:8080/"
    },
    "execution": {
     "iopub.execute_input": "2023-05-17T05:39:14.782746Z",
     "iopub.status.busy": "2023-05-17T05:39:14.782163Z",
     "iopub.status.idle": "2023-05-17T05:39:15.136859Z",
     "shell.execute_reply": "2023-05-17T05:39:15.135220Z",
     "shell.execute_reply.started": "2023-05-17T05:39:14.782709Z"
    },
    "id": "0EzpzqMkPk_0",
    "outputId": "fdc897d8-31b5-48fa-d5fd-c660cb450056"
   },
   "outputs": [],
   "source": [
    "from sklearn.model_selection import train_test_split\n",
    "\n",
    "x_train, x_test, y_train, y_test = train_test_split(scaled_inputs, Y, test_size=0.2, random_state=325)\n",
    "x_train.shape, x_test.shape, y_train.shape, y_test.shape"
   ]
  },
  {
   "cell_type": "markdown",
   "metadata": {},
   "source": [
    "# Results"
   ]
  },
  {
   "cell_type": "code",
   "execution_count": null,
   "metadata": {
    "colab": {
     "base_uri": "https://localhost:8080/",
     "height": 74
    },
    "execution": {
     "iopub.execute_input": "2023-05-17T05:39:15.141123Z",
     "iopub.status.busy": "2023-05-17T05:39:15.140343Z",
     "iopub.status.idle": "2023-05-17T05:39:15.316620Z",
     "shell.execute_reply": "2023-05-17T05:39:15.315001Z",
     "shell.execute_reply.started": "2023-05-17T05:39:15.141068Z"
    },
    "id": "UiYULsoQQHKE",
    "outputId": "672ce65c-e516-458e-e32e-3666891a9fd1"
   },
   "outputs": [],
   "source": [
    "from sklearn.linear_model import LinearRegression\n",
    "\n",
    "model = LinearRegression()\n",
    "model.fit(x_train, y_train)\n",
    "model.score(x_train, y_train)"
   ]
  },
  {
   "cell_type": "markdown",
   "metadata": {},
   "source": [
    "# Test"
   ]
  },
  {
   "cell_type": "code",
   "execution_count": null,
   "metadata": {},
   "outputs": [],
   "source": [
    "# Check predictions against 45 degree line\n",
    "y_hat_test = model.predict(x_test)\n",
    "plt.scatter(y_test, model.predict(x_test))\n",
    "plt.xlabel('Actual')\n",
    "plt.ylabel('Prediction')\n",
    "plt.plot([8.5, 11], [8.5, 11], 'orangered')"
   ]
  }
 ],
 "metadata": {
  "colab": {
   "provenance": []
  },
  "gpuClass": "standard",
  "kernelspec": {
   "display_name": "Python 3 (ipykernel)",
   "language": "python",
   "name": "python3"
  },
  "language_info": {
   "codemirror_mode": {
    "name": "ipython",
    "version": 3
   },
   "file_extension": ".py",
   "mimetype": "text/x-python",
   "name": "python",
   "nbconvert_exporter": "python",
   "pygments_lexer": "ipython3",
   "version": "3.9.13"
  }
 },
 "nbformat": 4,
 "nbformat_minor": 4
}
